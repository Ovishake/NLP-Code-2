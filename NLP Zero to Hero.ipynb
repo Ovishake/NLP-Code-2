{
 "cells": [
  {
   "cell_type": "code",
   "execution_count": 1,
   "metadata": {},
   "outputs": [],
   "source": [
    "import tensorflow as tf\n",
    "from tensorflow import keras\n",
    "from tensorflow.keras.preprocessing.text import Tokenizer"
   ]
  },
  {
   "cell_type": "code",
   "execution_count": 2,
   "metadata": {},
   "outputs": [],
   "source": [
    "config = {\n",
    "    \"sentences\": [\n",
    "        \"I love my dog\",\n",
    "        \"I love my cat\",\n",
    "        \"I really love my dog\",\n",
    "        \"my dog loves my manatee\",\n",
    "    ]\n",
    "}"
   ]
  },
  {
   "cell_type": "code",
   "execution_count": 3,
   "metadata": {},
   "outputs": [],
   "source": [
    "tokenizer = Tokenizer(num_words=100)"
   ]
  },
  {
   "cell_type": "code",
   "execution_count": 4,
   "metadata": {},
   "outputs": [],
   "source": [
    "tokenizer.fit_on_texts(config[\"sentences\"])"
   ]
  },
  {
   "cell_type": "code",
   "execution_count": 5,
   "metadata": {},
   "outputs": [],
   "source": [
    "word_index = tokenizer.word_index"
   ]
  },
  {
   "cell_type": "code",
   "execution_count": 6,
   "metadata": {},
   "outputs": [
    {
     "name": "stdout",
     "output_type": "stream",
     "text": [
      "{'my': 1, 'i': 2, 'love': 3, 'dog': 4, 'cat': 5, 'really': 6, 'loves': 7, 'manatee': 8}\n"
     ]
    }
   ],
   "source": [
    "print(word_index)"
   ]
  },
  {
   "cell_type": "code",
   "execution_count": 7,
   "metadata": {},
   "outputs": [],
   "source": [
    "sequences = tokenizer.texts_to_sequences(config[\"sentences\"])"
   ]
  },
  {
   "cell_type": "code",
   "execution_count": 8,
   "metadata": {},
   "outputs": [
    {
     "name": "stdout",
     "output_type": "stream",
     "text": [
      "[[2, 3, 1, 4], [2, 3, 1, 5], [2, 6, 3, 1, 4], [1, 4, 7, 1, 8]]\n"
     ]
    }
   ],
   "source": [
    "print(sequences)"
   ]
  },
  {
   "cell_type": "code",
   "execution_count": 9,
   "metadata": {},
   "outputs": [],
   "source": [
    "tokenizer = Tokenizer(num_words=100, oov_token=\"<OOV>\")"
   ]
  },
  {
   "cell_type": "code",
   "execution_count": 10,
   "metadata": {},
   "outputs": [
    {
     "name": "stdout",
     "output_type": "stream",
     "text": [
      "None\n"
     ]
    }
   ],
   "source": [
    "text1 = tokenizer.fit_on_texts(config[\"sentences\"])\n",
    "print(text1)"
   ]
  },
  {
   "cell_type": "code",
   "execution_count": 11,
   "metadata": {},
   "outputs": [],
   "source": [
    "sequences = tokenizer.texts_to_sequences(config[\"sentences\"])"
   ]
  },
  {
   "cell_type": "code",
   "execution_count": 12,
   "metadata": {},
   "outputs": [
    {
     "name": "stdout",
     "output_type": "stream",
     "text": [
      "[[3, 4, 2, 5], [3, 4, 2, 6], [3, 7, 4, 2, 5], [2, 5, 8, 2, 9]]\n"
     ]
    }
   ],
   "source": [
    "print(sequences)"
   ]
  },
  {
   "cell_type": "markdown",
   "metadata": {},
   "source": [
    "How to feed tensors of different sizes to a Neural Network?\n",
    "\n",
    "The answer to that is padding, or Ragged Tensors"
   ]
  },
  {
   "cell_type": "code",
   "execution_count": 13,
   "metadata": {},
   "outputs": [],
   "source": [
    "from tensorflow.keras.preprocessing.sequence import pad_sequences"
   ]
  },
  {
   "cell_type": "code",
   "execution_count": 14,
   "metadata": {},
   "outputs": [],
   "source": [
    "padded = pad_sequences(sequences)"
   ]
  },
  {
   "cell_type": "code",
   "execution_count": 15,
   "metadata": {},
   "outputs": [
    {
     "name": "stdout",
     "output_type": "stream",
     "text": [
      "[[0 3 4 2 5]\n",
      " [0 3 4 2 6]\n",
      " [3 7 4 2 5]\n",
      " [2 5 8 2 9]]\n"
     ]
    }
   ],
   "source": [
    "print(padded)"
   ]
  },
  {
   "cell_type": "code",
   "execution_count": 16,
   "metadata": {},
   "outputs": [],
   "source": [
    "padded = pad_sequences(sequences, padding=\"post\")"
   ]
  },
  {
   "cell_type": "code",
   "execution_count": 17,
   "metadata": {},
   "outputs": [
    {
     "name": "stdout",
     "output_type": "stream",
     "text": [
      "[[3 4 2 5 0]\n",
      " [3 4 2 6 0]\n",
      " [3 7 4 2 5]\n",
      " [2 5 8 2 9]]\n"
     ]
    }
   ],
   "source": [
    "print(padded)"
   ]
  },
  {
   "cell_type": "code",
   "execution_count": 18,
   "metadata": {},
   "outputs": [],
   "source": [
    "padded = pad_sequences(sequences, padding=\"post\", truncating=\"post\", maxlen=4)"
   ]
  },
  {
   "cell_type": "code",
   "execution_count": 19,
   "metadata": {},
   "outputs": [
    {
     "name": "stdout",
     "output_type": "stream",
     "text": [
      "[[3 4 2 5]\n",
      " [3 4 2 6]\n",
      " [3 7 4 2]\n",
      " [2 5 8 2]]\n"
     ]
    }
   ],
   "source": [
    "print(padded)"
   ]
  },
  {
   "cell_type": "code",
   "execution_count": 20,
   "metadata": {},
   "outputs": [],
   "source": [
    "padded = pad_sequences(sequences, padding=\"post\", truncating=\"post\", maxlen=10)"
   ]
  },
  {
   "cell_type": "code",
   "execution_count": 21,
   "metadata": {},
   "outputs": [
    {
     "name": "stdout",
     "output_type": "stream",
     "text": [
      "[[3 4 2 5 0 0 0 0 0 0]\n",
      " [3 4 2 6 0 0 0 0 0 0]\n",
      " [3 7 4 2 5 0 0 0 0 0]\n",
      " [2 5 8 2 9 0 0 0 0 0]]\n"
     ]
    }
   ],
   "source": [
    "print(padded)"
   ]
  },
  {
   "cell_type": "code",
   "execution_count": 22,
   "metadata": {},
   "outputs": [],
   "source": [
    "import json\n",
    "from pprint import pprint\n",
    "import pandas as pd\n",
    "\n",
    "datastore = pd.read_json(\n",
    "    \"./30764_533474_bundle_archive/Sarcasm_Headlines_Dataset.json\", lines=True\n",
    ")"
   ]
  },
  {
   "cell_type": "code",
   "execution_count": 23,
   "metadata": {
    "scrolled": true
   },
   "outputs": [
    {
     "data": {
      "text/html": [
       "<div>\n",
       "<style scoped>\n",
       "    .dataframe tbody tr th:only-of-type {\n",
       "        vertical-align: middle;\n",
       "    }\n",
       "\n",
       "    .dataframe tbody tr th {\n",
       "        vertical-align: top;\n",
       "    }\n",
       "\n",
       "    .dataframe thead th {\n",
       "        text-align: right;\n",
       "    }\n",
       "</style>\n",
       "<table border=\"1\" class=\"dataframe\">\n",
       "  <thead>\n",
       "    <tr style=\"text-align: right;\">\n",
       "      <th></th>\n",
       "      <th>article_link</th>\n",
       "      <th>headline</th>\n",
       "      <th>is_sarcastic</th>\n",
       "    </tr>\n",
       "  </thead>\n",
       "  <tbody>\n",
       "    <tr>\n",
       "      <th>0</th>\n",
       "      <td>https://www.huffingtonpost.com/entry/versace-b...</td>\n",
       "      <td>former versace store clerk sues over secret 'b...</td>\n",
       "      <td>0</td>\n",
       "    </tr>\n",
       "    <tr>\n",
       "      <th>1</th>\n",
       "      <td>https://local.theonion.com/mom-starting-to-fea...</td>\n",
       "      <td>mom starting to fear son's web series closest ...</td>\n",
       "      <td>1</td>\n",
       "    </tr>\n",
       "    <tr>\n",
       "      <th>2</th>\n",
       "      <td>https://politics.theonion.com/boehner-just-wan...</td>\n",
       "      <td>boehner just wants wife to listen, not come up...</td>\n",
       "      <td>1</td>\n",
       "    </tr>\n",
       "    <tr>\n",
       "      <th>3</th>\n",
       "      <td>https://www.huffingtonpost.com/entry/jk-rowlin...</td>\n",
       "      <td>j.k. rowling wishes snape happy birthday in th...</td>\n",
       "      <td>0</td>\n",
       "    </tr>\n",
       "    <tr>\n",
       "      <th>4</th>\n",
       "      <td>https://www.huffingtonpost.com/entry/advancing...</td>\n",
       "      <td>advancing the world's women</td>\n",
       "      <td>0</td>\n",
       "    </tr>\n",
       "  </tbody>\n",
       "</table>\n",
       "</div>"
      ],
      "text/plain": [
       "                                        article_link  \\\n",
       "0  https://www.huffingtonpost.com/entry/versace-b...   \n",
       "1  https://local.theonion.com/mom-starting-to-fea...   \n",
       "2  https://politics.theonion.com/boehner-just-wan...   \n",
       "3  https://www.huffingtonpost.com/entry/jk-rowlin...   \n",
       "4  https://www.huffingtonpost.com/entry/advancing...   \n",
       "\n",
       "                                            headline  is_sarcastic  \n",
       "0  former versace store clerk sues over secret 'b...             0  \n",
       "1  mom starting to fear son's web series closest ...             1  \n",
       "2  boehner just wants wife to listen, not come up...             1  \n",
       "3  j.k. rowling wishes snape happy birthday in th...             0  \n",
       "4                        advancing the world's women             0  "
      ]
     },
     "execution_count": 23,
     "metadata": {},
     "output_type": "execute_result"
    }
   ],
   "source": [
    "datastore.head()"
   ]
  },
  {
   "cell_type": "code",
   "execution_count": 24,
   "metadata": {},
   "outputs": [],
   "source": [
    "sentences = datastore[\"headline\"].values.tolist()"
   ]
  },
  {
   "cell_type": "code",
   "execution_count": 25,
   "metadata": {},
   "outputs": [],
   "source": [
    "labels = datastore[\"is_sarcastic\"].values.tolist()"
   ]
  },
  {
   "cell_type": "code",
   "execution_count": 26,
   "metadata": {},
   "outputs": [],
   "source": [
    "urls = datastore[\"article_link\"].values.tolist()"
   ]
  },
  {
   "cell_type": "code",
   "execution_count": 27,
   "metadata": {},
   "outputs": [],
   "source": [
    "tokenizer.fit_on_texts(sentences)\n",
    "word_index = tokenizer.word_index\n",
    "sequences = tokenizer.texts_to_sequences(sentences)\n",
    "padded = pad_sequences(sequences, padding=\"post\")"
   ]
  },
  {
   "cell_type": "code",
   "execution_count": 28,
   "metadata": {},
   "outputs": [
    {
     "name": "stdout",
     "output_type": "stream",
     "text": [
      "[ 1  1  1  1  1 48  1  1  1  6  1  1  0  0  0  0  0  0  0  0  0  0  0  0\n",
      "  0  0  0  0  0  0  0  0  0  0  0  0  0  0  0  0]\n"
     ]
    }
   ],
   "source": [
    "print(padded[0])"
   ]
  },
  {
   "cell_type": "code",
   "execution_count": 29,
   "metadata": {},
   "outputs": [
    {
     "name": "stdout",
     "output_type": "stream",
     "text": [
      "(26708, 40)\n"
     ]
    }
   ],
   "source": [
    "print(padded.shape)"
   ]
  },
  {
   "cell_type": "code",
   "execution_count": 30,
   "metadata": {},
   "outputs": [],
   "source": [
    "training_size = int(padded.shape[0] * 0.7)"
   ]
  },
  {
   "cell_type": "code",
   "execution_count": 31,
   "metadata": {},
   "outputs": [],
   "source": [
    "training_sentences = sentences[0:training_size]\n",
    "testing_sentences = sentences[training_size:]\n",
    "training_labels = labels[0:training_size]\n",
    "testing_labels = labels[training_size:]"
   ]
  },
  {
   "cell_type": "code",
   "execution_count": 32,
   "metadata": {},
   "outputs": [],
   "source": [
    "import numpy as np"
   ]
  },
  {
   "cell_type": "code",
   "execution_count": 33,
   "metadata": {
    "scrolled": true
   },
   "outputs": [],
   "source": [
    "training_padded = np.array(padded[0:training_size])\n",
    "testing_padded = np.array(padded[training_size:])"
   ]
  },
  {
   "cell_type": "code",
   "execution_count": 34,
   "metadata": {},
   "outputs": [],
   "source": [
    "training_labels = np.array(training_labels)\n",
    "testing_labels = np.array(testing_labels)"
   ]
  },
  {
   "cell_type": "code",
   "execution_count": 35,
   "metadata": {},
   "outputs": [
    {
     "data": {
      "text/plain": [
       "array([ 1,  1,  2,  1,  1,  1,  1,  1,  1,  1, 39, 46,  2,  1,  0,  0,  0,\n",
       "        0,  0,  0,  0,  0,  0,  0,  0,  0,  0,  0,  0,  0,  0,  0,  0,  0,\n",
       "        0,  0,  0,  0,  0,  0])"
      ]
     },
     "execution_count": 35,
     "metadata": {},
     "output_type": "execute_result"
    }
   ],
   "source": [
    "training_padded[1]"
   ]
  },
  {
   "cell_type": "code",
   "execution_count": 36,
   "metadata": {},
   "outputs": [],
   "source": [
    "vocab_size = 10000\n",
    "embedding_dim = 40\n",
    "max_length = 40\n",
    "trunc_type = \"post\"\n",
    "padding_type = \"post\"\n",
    "oov_tok = \"<OOV>\""
   ]
  },
  {
   "cell_type": "code",
   "execution_count": 37,
   "metadata": {},
   "outputs": [
    {
     "data": {
      "text/plain": [
       "78"
      ]
     },
     "execution_count": 37,
     "metadata": {},
     "output_type": "execute_result"
    }
   ],
   "source": [
    "len(training_sentences[0])"
   ]
  },
  {
   "cell_type": "code",
   "execution_count": 38,
   "metadata": {},
   "outputs": [
    {
     "data": {
      "text/plain": [
       "29658"
      ]
     },
     "execution_count": 38,
     "metadata": {},
     "output_type": "execute_result"
    }
   ],
   "source": [
    "len(word_index)"
   ]
  },
  {
   "cell_type": "code",
   "execution_count": 39,
   "metadata": {},
   "outputs": [],
   "source": [
    "model = tf.keras.Sequential(\n",
    "    [\n",
    "        tf.keras.layers.Embedding(\n",
    "            len(word_index), embedding_dim, input_length=max_length\n",
    "        ),\n",
    "        tf.keras.layers.GlobalAveragePooling1D(),\n",
    "        tf.keras.layers.Dense(24, activation=\"relu\"),\n",
    "        tf.keras.layers.Dense(1, activation=\"sigmoid\"),\n",
    "    ]\n",
    ")"
   ]
  },
  {
   "cell_type": "code",
   "execution_count": 40,
   "metadata": {},
   "outputs": [],
   "source": [
    "model.compile(loss=\"binary_crossentropy\", optimizer=\"adam\", metrics=[\"accuracy\"])"
   ]
  },
  {
   "cell_type": "code",
   "execution_count": 41,
   "metadata": {},
   "outputs": [],
   "source": [
    "num_epochs = 30"
   ]
  },
  {
   "cell_type": "code",
   "execution_count": 42,
   "metadata": {
    "scrolled": true
   },
   "outputs": [
    {
     "name": "stdout",
     "output_type": "stream",
     "text": [
      "Train on 18695 samples, validate on 8013 samples\n",
      "Epoch 1/30\n",
      "18695/18695 - 11s - loss: 0.6201 - accuracy: 0.6435 - val_loss: 0.5158 - val_accuracy: 0.7289\n",
      "Epoch 2/30\n",
      "18695/18695 - 10s - loss: 0.5022 - accuracy: 0.7420 - val_loss: 0.4961 - val_accuracy: 0.7425\n",
      "Epoch 3/30\n",
      "18695/18695 - 9s - loss: 0.4939 - accuracy: 0.7473 - val_loss: 0.4934 - val_accuracy: 0.7498\n",
      "Epoch 4/30\n",
      "18695/18695 - 10s - loss: 0.4916 - accuracy: 0.7488 - val_loss: 0.4917 - val_accuracy: 0.7442\n",
      "Epoch 5/30\n",
      "18695/18695 - 11s - loss: 0.4917 - accuracy: 0.7470 - val_loss: 0.5072 - val_accuracy: 0.7450\n",
      "Epoch 6/30\n",
      "18695/18695 - 11s - loss: 0.4906 - accuracy: 0.7471 - val_loss: 0.4924 - val_accuracy: 0.7489\n",
      "Epoch 7/30\n",
      "18695/18695 - 10s - loss: 0.4911 - accuracy: 0.7454 - val_loss: 0.4937 - val_accuracy: 0.7529\n",
      "Epoch 8/30\n",
      "18695/18695 - 9s - loss: 0.4893 - accuracy: 0.7506 - val_loss: 0.4925 - val_accuracy: 0.7550\n",
      "Epoch 9/30\n",
      "18695/18695 - 11s - loss: 0.4896 - accuracy: 0.7518 - val_loss: 0.4986 - val_accuracy: 0.7498\n",
      "Epoch 10/30\n",
      "18695/18695 - 10s - loss: 0.4895 - accuracy: 0.7486 - val_loss: 0.4993 - val_accuracy: 0.7294\n",
      "Epoch 11/30\n",
      "18695/18695 - 10s - loss: 0.4896 - accuracy: 0.7495 - val_loss: 0.4900 - val_accuracy: 0.7443\n",
      "Epoch 12/30\n",
      "18695/18695 - 9s - loss: 0.4887 - accuracy: 0.7492 - val_loss: 0.4934 - val_accuracy: 0.7539\n",
      "Epoch 13/30\n",
      "18695/18695 - 9s - loss: 0.4893 - accuracy: 0.7503 - val_loss: 0.4913 - val_accuracy: 0.7399\n",
      "Epoch 14/30\n",
      "18695/18695 - 9s - loss: 0.4889 - accuracy: 0.7474 - val_loss: 0.4901 - val_accuracy: 0.7429\n",
      "Epoch 15/30\n",
      "18695/18695 - 10s - loss: 0.4881 - accuracy: 0.7484 - val_loss: 0.4909 - val_accuracy: 0.7389\n",
      "Epoch 16/30\n",
      "18695/18695 - 10s - loss: 0.4885 - accuracy: 0.7484 - val_loss: 0.4916 - val_accuracy: 0.7545\n",
      "Epoch 17/30\n",
      "18695/18695 - 10s - loss: 0.4890 - accuracy: 0.7474 - val_loss: 0.4889 - val_accuracy: 0.7442\n",
      "Epoch 18/30\n",
      "18695/18695 - 10s - loss: 0.4878 - accuracy: 0.7507 - val_loss: 0.4911 - val_accuracy: 0.7556\n",
      "Epoch 19/30\n",
      "18695/18695 - 10s - loss: 0.4866 - accuracy: 0.7521 - val_loss: 0.4879 - val_accuracy: 0.7455\n",
      "Epoch 20/30\n",
      "18695/18695 - 10s - loss: 0.4850 - accuracy: 0.7526 - val_loss: 0.4860 - val_accuracy: 0.7550\n",
      "Epoch 21/30\n",
      "18695/18695 - 10s - loss: 0.4826 - accuracy: 0.7524 - val_loss: 0.4861 - val_accuracy: 0.7570\n",
      "Epoch 22/30\n",
      "18695/18695 - 10s - loss: 0.4785 - accuracy: 0.7556 - val_loss: 0.4796 - val_accuracy: 0.7554\n",
      "Epoch 23/30\n",
      "18695/18695 - 11s - loss: 0.4755 - accuracy: 0.7614 - val_loss: 0.4774 - val_accuracy: 0.7579\n",
      "Epoch 24/30\n",
      "18695/18695 - 10s - loss: 0.4731 - accuracy: 0.7618 - val_loss: 0.4760 - val_accuracy: 0.7563\n",
      "Epoch 25/30\n",
      "18695/18695 - 9s - loss: 0.4720 - accuracy: 0.7633 - val_loss: 0.4759 - val_accuracy: 0.7550\n",
      "Epoch 26/30\n",
      "18695/18695 - 10s - loss: 0.4700 - accuracy: 0.7648 - val_loss: 0.4774 - val_accuracy: 0.7656\n",
      "Epoch 27/30\n",
      "18695/18695 - 10s - loss: 0.4699 - accuracy: 0.7651 - val_loss: 0.4765 - val_accuracy: 0.7527\n",
      "Epoch 28/30\n",
      "18695/18695 - 10s - loss: 0.4688 - accuracy: 0.7635 - val_loss: 0.4769 - val_accuracy: 0.7649\n",
      "Epoch 29/30\n",
      "18695/18695 - 10s - loss: 0.4683 - accuracy: 0.7646 - val_loss: 0.4744 - val_accuracy: 0.7559\n",
      "Epoch 30/30\n",
      "18695/18695 - 10s - loss: 0.4685 - accuracy: 0.7687 - val_loss: 0.4767 - val_accuracy: 0.7512\n"
     ]
    }
   ],
   "source": [
    "history = model.fit(\n",
    "    training_padded,\n",
    "    training_labels,\n",
    "    epochs=num_epochs,\n",
    "    validation_data=(testing_padded, testing_labels),\n",
    "    verbose=2,\n",
    ")"
   ]
  },
  {
   "cell_type": "code",
   "execution_count": 43,
   "metadata": {},
   "outputs": [],
   "source": [
    "sentence = [\n",
    "    \"granny starting to fear spiders in the garden might be real\",\n",
    "    \"the weather today is bright and sunny\"\n",
    "]"
   ]
  },
  {
   "cell_type": "code",
   "execution_count": 44,
   "metadata": {},
   "outputs": [],
   "source": [
    "sequences = tokenizer.texts_to_sequences(sentence)"
   ]
  },
  {
   "cell_type": "code",
   "execution_count": 45,
   "metadata": {},
   "outputs": [
    {
     "data": {
      "text/plain": [
       "[[1, 1, 2, 1, 1, 5, 4, 1, 1, 24, 1], [4, 1, 1, 11, 1, 9, 1]]"
      ]
     },
     "execution_count": 45,
     "metadata": {},
     "output_type": "execute_result"
    }
   ],
   "source": [
    "sequences"
   ]
  },
  {
   "cell_type": "code",
   "execution_count": 46,
   "metadata": {},
   "outputs": [],
   "source": [
    "padded = pad_sequences(sequences, maxlen= max_length, padding = padding_type, truncating = trunc_type)"
   ]
  },
  {
   "cell_type": "code",
   "execution_count": 47,
   "metadata": {},
   "outputs": [
    {
     "data": {
      "text/plain": [
       "array([[ 1,  1,  2,  1,  1,  5,  4,  1,  1, 24,  1,  0,  0,  0,  0,  0,\n",
       "         0,  0,  0,  0,  0,  0,  0,  0,  0,  0,  0,  0,  0,  0,  0,  0,\n",
       "         0,  0,  0,  0,  0,  0,  0,  0],\n",
       "       [ 4,  1,  1, 11,  1,  9,  1,  0,  0,  0,  0,  0,  0,  0,  0,  0,\n",
       "         0,  0,  0,  0,  0,  0,  0,  0,  0,  0,  0,  0,  0,  0,  0,  0,\n",
       "         0,  0,  0,  0,  0,  0,  0,  0]])"
      ]
     },
     "execution_count": 47,
     "metadata": {},
     "output_type": "execute_result"
    }
   ],
   "source": [
    "padded"
   ]
  },
  {
   "cell_type": "code",
   "execution_count": 48,
   "metadata": {},
   "outputs": [
    {
     "name": "stdout",
     "output_type": "stream",
     "text": [
      "[[0.09693062]\n",
      " [0.00513685]]\n"
     ]
    }
   ],
   "source": [
    "print(model.predict(padded))"
   ]
  }
 ],
 "metadata": {
  "kernelspec": {
   "display_name": "Python 3",
   "language": "python",
   "name": "python3"
  },
  "language_info": {
   "codemirror_mode": {
    "name": "ipython",
    "version": 3
   },
   "file_extension": ".py",
   "mimetype": "text/x-python",
   "name": "python",
   "nbconvert_exporter": "python",
   "pygments_lexer": "ipython3",
   "version": "3.6.12"
  }
 },
 "nbformat": 4,
 "nbformat_minor": 4
}
